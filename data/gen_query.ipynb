{
 "cells": [
  {
   "cell_type": "code",
   "execution_count": 1,
   "metadata": {},
   "outputs": [],
   "source": [
    "import os\n",
    "import random\n",
    "import cv2\n",
    "import numpy as np\n",
    "import cv2\n",
    "import hashlib\n",
    "import uuid\n",
    "import pandas as pd\n",
    "from tqdm import tqdm\n",
    "from datetime import datetime\n",
    "from skimage import io, color, filters, transform, exposure\n",
    "from pencil_texture import *\n",
    "from crop_sketch_query import sketch_crop"
   ]
  },
  {
   "cell_type": "code",
   "execution_count": 2,
   "metadata": {},
   "outputs": [],
   "source": [
    "def gen_image_name():\n",
    "    id = np.random.randint(1, 255)\n",
    "    current_time = datetime.now().strftime(\"%m/%d/%Y, %H:%M:%S\")\n",
    "    full_name = current_time + '_' + str(id) + '_' + str(uuid.uuid4())\n",
    "    encrypted = hashlib.sha256(full_name.encode()).hexdigest()\n",
    "    return encrypted[:16]\n",
    "\n",
    "def random_flip(img):\n",
    "    if np.random.rand() < 0.2:\n",
    "        img = cv2.flip(img, 1)\n",
    "    return img\n",
    "\n",
    "def random_rotate(img):\n",
    "    if np.random.rand() < 0.2:\n",
    "        # Randomly rotate the image in a small angle\n",
    "        angle = np.random.randint(-5, 5)\n",
    "        rows, cols = img.shape[:2]\n",
    "        M = cv2.getRotationMatrix2D((cols/2, rows/2), angle, 1)\n",
    "        img = cv2.warpAffine(img, M, (cols, rows), flags=cv2.INTER_CUBIC, borderMode = cv2.BORDER_CONSTANT, borderValue=(255, 255, 255))\n",
    "    return img"
   ]
  },
  {
   "cell_type": "code",
   "execution_count": 13,
   "metadata": {},
   "outputs": [
    {
     "name": "stderr",
     "output_type": "stream",
     "text": [
      "100%|██████████| 711/711 [00:28<00:00, 24.98it/s]\n"
     ]
    }
   ],
   "source": [
    "OBJECT_DIR = './SketchANIMAR2023/3D_Model_References/References'\n",
    "RINGVIEW_DIR = './SketchANIMAR2023/3D_Model_References/generated_models'\n",
    "\n",
    "CANNY_DIR = './SketchANIMAR2023/3D_Model_References/generated_sketches'\n",
    "ARTLINE_DIR = './SketchANIMAR2023/3D_Model_References/artline_generated_sketches'\n",
    "\n",
    "NEW_QUERY_DIR = './SketchANIMAR2023/Train/NewSketchQuery_Train'\n",
    "df_train = pd.read_csv('./csv/train_skt.csv')\n",
    "df_test = pd.read_csv('./csv/test_skt.csv')\n",
    "\n",
    "os.makedirs(NEW_QUERY_DIR, exist_ok=True)\n",
    "\n",
    "for object in tqdm(os.listdir(OBJECT_DIR)):\n",
    "    used_rings = [2, 3, 4]\n",
    "\n",
    "    object_name = object.split('.')[0]\n",
    "    common_ring_folder_path = os.path.join(\n",
    "        RINGVIEW_DIR, 'ring{}', object_name, 'render')\n",
    "    common_canny_folder_path = os.path.join(\n",
    "        CANNY_DIR, 'ring{}', object_name, 'render')\n",
    "    common_artline_folder_path = os.path.join(\n",
    "        ARTLINE_DIR, 'ring{}', object_name, 'render')\n",
    "\n",
    "    for used_ring in used_rings:\n",
    "        ring_folder_path = common_ring_folder_path.format(used_ring)\n",
    "        canny_folder_path = common_canny_folder_path.format(used_ring)\n",
    "        artline_folder_path = common_artline_folder_path.format(used_ring)\n",
    "\n",
    "        random_image = random.choice(sorted(os.listdir(ring_folder_path))[2:11])\n",
    "\n",
    "        options = ['canny', 'artline', 'pencil']\n",
    "        probabilities = (0.6, 0.4, 0.0)\n",
    "        option = random.choices(options, weights=probabilities)[0]\n",
    "\n",
    "        if option == 'canny':\n",
    "            img = cv2.imread(os.path.join(canny_folder_path, random_image))\n",
    "        elif option == 'artline':\n",
    "            img = cv2.imread(os.path.join(\n",
    "                artline_folder_path, random_image))\n",
    "            img = cv2.cvtColor(img, cv2.COLOR_BGR2GRAY)\n",
    "            img = cv2.cvtColor(img, cv2.COLOR_GRAY2BGR)\n",
    "        else:\n",
    "            raw_img = io.imread(os.path.join(canny_folder_path, random_image))\n",
    "            pencil_tex = './pencil_textures/pencil1.jpg'\n",
    "            img = gen_pencil_drawing(raw_img, kernel_size=8, stroke_width=1, num_of_directions=8, smooth_kernel=\"gauss\",\n",
    "                                     gradient_method=1, rgb=True, w_group=2, pencil_texture_path=pencil_tex,\n",
    "                                     stroke_darkness=2, tone_darkness=0)\n",
    "            img[img > 1] = 1\n",
    "            img[img < -1] = -1\n",
    "            img = exposure.rescale_intensity(img, in_range=(0, 1)).astype(np.float32)\n",
    "            # Convert the skimage image to OpenCV format\n",
    "            img = cv2.cvtColor(img, cv2.COLOR_RGB2BGR)\n",
    "\n",
    "        img = random_flip(img)\n",
    "        img = random_rotate(img)\n",
    "        img = sketch_crop(img)\n",
    "\n",
    "        img_name = gen_image_name()\n",
    "        cv2.imwrite(os.path.join(NEW_QUERY_DIR, img_name + '.jpg'), img)\n",
    "\n",
    "        new_data = {'obj_id': object_name, 'sketch_id': img_name,\n",
    "                     'obj_filename': object_name + '.obj', 'sket_filename': img_name + '.jpg'}\n",
    "\n",
    "        # add to train/val\n",
    "        p = np.random.rand()\n",
    "        if p < 0.2:        \n",
    "            df_test = df_test.append(new_data, ignore_index=True)\n",
    "        else:\n",
    "            df_train = df_train.append(new_data, ignore_index=True)\n",
    "\n",
    "df_train.to_csv(os.path.join('./csv', 'new_train_skt.csv'), index=False)\n",
    "df_test.to_csv(os.path.join('./csv', 'new_test_skt.csv'), index=False)"
   ]
  },
  {
   "cell_type": "code",
   "execution_count": 15,
   "metadata": {},
   "outputs": [],
   "source": [
    "import shutil\n",
    "\n",
    "orig_query_folder = './SketchANIMAR2023/Train/CroppedSketchQuery_Train/'\n",
    "\n",
    "for query in os.listdir(orig_query_folder):\n",
    "    shutil.copy(os.path.join(orig_query_folder, query), os.path.join(NEW_QUERY_DIR, query))"
   ]
  }
 ],
 "metadata": {
  "kernelspec": {
   "display_name": "htrvu",
   "language": "python",
   "name": "python3"
  },
  "language_info": {
   "codemirror_mode": {
    "name": "ipython",
    "version": 3
   },
   "file_extension": ".py",
   "mimetype": "text/x-python",
   "name": "python",
   "nbconvert_exporter": "python",
   "pygments_lexer": "ipython3",
   "version": "3.8.15"
  },
  "orig_nbformat": 4
 },
 "nbformat": 4,
 "nbformat_minor": 2
}
