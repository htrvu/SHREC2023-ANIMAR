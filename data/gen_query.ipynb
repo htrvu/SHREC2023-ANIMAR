{
 "cells": [
  {
   "cell_type": "code",
   "execution_count": 2,
   "metadata": {},
   "outputs": [],
   "source": [
    "import os\n",
    "import random\n",
    "import cv2\n",
    "import numpy as np\n",
    "import cv2\n",
    "import hashlib\n",
    "import uuid\n",
    "import pandas as pd\n",
    "from tqdm import tqdm\n",
    "from datetime import datetime\n",
    "from skimage import io, color, filters, transform, exposure\n",
    "from pencil_texture import *\n",
    "from crop_sketch_query import sketch_crop"
   ]
  },
  {
   "attachments": {},
   "cell_type": "markdown",
   "metadata": {},
   "source": [
    "## Generate new query for sketch-based"
   ]
  },
  {
   "cell_type": "code",
   "execution_count": 4,
   "metadata": {},
   "outputs": [],
   "source": [
    "def gen_image_name():\n",
    "    id = np.random.randint(1, 255)\n",
    "    current_time = datetime.now().strftime(\"%m/%d/%Y, %H:%M:%S\")\n",
    "    full_name = current_time + '_' + str(id) + '_' + str(uuid.uuid4())\n",
    "    encrypted = hashlib.sha256(full_name.encode()).hexdigest()\n",
    "    return encrypted[:16]\n",
    "\n",
    "def random_flip(img):\n",
    "    if np.random.rand() < 0.5:\n",
    "        img = cv2.flip(img, 1)\n",
    "    return img\n",
    "\n",
    "def random_rotate(img):\n",
    "    if np.random.rand() < 0.7:\n",
    "        # Randomly rotate the image in a small angle\n",
    "        angle = np.random.randint(-10, 10)\n",
    "        rows, cols = img.shape[:2]\n",
    "        M = cv2.getRotationMatrix2D((cols/2, rows/2), angle, 1)\n",
    "        img = cv2.warpAffine(img, M, (cols, rows), flags=cv2.INTER_CUBIC, borderMode = cv2.BORDER_CONSTANT, borderValue=(255, 255, 255))\n",
    "    return img"
   ]
  },
  {
   "cell_type": "code",
   "execution_count": 9,
   "metadata": {},
   "outputs": [
    {
     "name": "stderr",
     "output_type": "stream",
     "text": [
      "100%|██████████| 711/711 [00:29<00:00, 23.73it/s]\n"
     ]
    }
   ],
   "source": [
    "OBJECT_DIR = './SketchANIMAR2023/3D_Model_References/References'\n",
    "RINGVIEW_DIR = './SketchANIMAR2023/3D_Model_References/generated_models'\n",
    "\n",
    "CANNY_DIR = './SketchANIMAR2023/3D_Model_References/generated_sketches'\n",
    "ARTLINE_DIR = './SketchANIMAR2023/3D_Model_References/artline_generated_sketches'\n",
    "\n",
    "NEW_QUERY_DIR = './SketchANIMAR2023/Train/NewSketchQuery_Train_Full'\n",
    "df_train = pd.read_csv('./csv/train_skt.csv')\n",
    "df_test = pd.read_csv('./csv/test_skt.csv')\n",
    "\n",
    "df_orig = pd.concat([df_train, df_test])\n",
    "\n",
    "os.makedirs(NEW_QUERY_DIR, exist_ok=True)\n",
    "\n",
    "for object in tqdm(os.listdir(OBJECT_DIR)):\n",
    "    # used_rings = [2, 3, 4]\n",
    "    used_rings = [3]\n",
    "\n",
    "    object_name = object.split('.')[0]\n",
    "    common_ring_folder_path = os.path.join(\n",
    "        RINGVIEW_DIR, 'ring{}', object_name, 'render')\n",
    "    common_canny_folder_path = os.path.join(\n",
    "        CANNY_DIR, 'ring{}', object_name, 'render')\n",
    "    common_artline_folder_path = os.path.join(\n",
    "        ARTLINE_DIR, 'ring{}', object_name, 'render')\n",
    "\n",
    "    for used_ring in used_rings:\n",
    "        ring_folder_path = common_ring_folder_path.format(used_ring)\n",
    "        canny_folder_path = common_canny_folder_path.format(used_ring)\n",
    "        artline_folder_path = common_artline_folder_path.format(used_ring)\n",
    "\n",
    "        for _ in range(3):\n",
    "            random_image = random.choice(sorted(os.listdir(ring_folder_path))[2:11])\n",
    "\n",
    "            options = ['canny', 'artline', 'pencil']\n",
    "            probabilities = (0.6, 0.4, 0.0)\n",
    "            option = random.choices(options, weights=probabilities)[0]\n",
    "\n",
    "            if option == 'canny':\n",
    "                img = cv2.imread(os.path.join(canny_folder_path, random_image))\n",
    "            elif option == 'artline':\n",
    "                img = cv2.imread(os.path.join(\n",
    "                    artline_folder_path, random_image))\n",
    "                img = cv2.cvtColor(img, cv2.COLOR_BGR2GRAY)\n",
    "                img = cv2.cvtColor(img, cv2.COLOR_GRAY2BGR)\n",
    "            else:\n",
    "                raw_img = io.imread(os.path.join(canny_folder_path, random_image))\n",
    "                pencil_tex = './pencil_textures/pencil1.jpg'\n",
    "                img = gen_pencil_drawing(raw_img, kernel_size=8, stroke_width=1, num_of_directions=8, smooth_kernel=\"gauss\",\n",
    "                                        gradient_method=1, rgb=True, w_group=2, pencil_texture_path=pencil_tex,\n",
    "                                        stroke_darkness=2, tone_darkness=0)\n",
    "                img[img > 1] = 1\n",
    "                img[img < -1] = -1\n",
    "                img = exposure.rescale_intensity(img, in_range=(0, 1)).astype(np.float32)\n",
    "                # Convert the skimage image to OpenCV format\n",
    "                img = cv2.cvtColor(img, cv2.COLOR_RGB2BGR)\n",
    "\n",
    "            img = random_flip(img)\n",
    "            img = random_rotate(img)\n",
    "            try:\n",
    "                cropped_img = sketch_crop(img)\n",
    "            except:\n",
    "                cropped_img = img\n",
    "\n",
    "            img = cropped_img\n",
    "            img_name = gen_image_name()\n",
    "            cv2.imwrite(os.path.join(NEW_QUERY_DIR, img_name + '.jpg'), img)\n",
    "\n",
    "            new_data = {'obj_id': object_name, 'sketch_id': img_name,\n",
    "                        'obj_filename': object_name + '.obj', 'sket_filename': img_name + '.jpg'}\n",
    "\n",
    "            df_orig = df_orig.append(new_data, ignore_index=True)\n",
    "            \n",
    "df_test.to_csv(os.path.join('./csv', 'new_squery_skt_full.csv'), index=False)"
   ]
  },
  {
   "cell_type": "code",
   "execution_count": 10,
   "metadata": {},
   "outputs": [],
   "source": [
    "import shutil\n",
    "\n",
    "orig_query_folder = './SketchANIMAR2023/Train/CroppedSketchQuery_Train/'\n",
    "\n",
    "for query in os.listdir(orig_query_folder):\n",
    "    shutil.copy(os.path.join(orig_query_folder, query), os.path.join(NEW_QUERY_DIR, query))"
   ]
  },
  {
   "attachments": {},
   "cell_type": "markdown",
   "metadata": {},
   "source": [
    "## K-fold split"
   ]
  },
  {
   "cell_type": "code",
   "execution_count": 10,
   "metadata": {},
   "outputs": [
    {
     "name": "stdout",
     "output_type": "stream",
     "text": [
      "2414\n"
     ]
    },
    {
     "data": {
      "text/html": [
       "<div>\n",
       "<style scoped>\n",
       "    .dataframe tbody tr th:only-of-type {\n",
       "        vertical-align: middle;\n",
       "    }\n",
       "\n",
       "    .dataframe tbody tr th {\n",
       "        vertical-align: top;\n",
       "    }\n",
       "\n",
       "    .dataframe thead th {\n",
       "        text-align: right;\n",
       "    }\n",
       "</style>\n",
       "<table border=\"1\" class=\"dataframe\">\n",
       "  <thead>\n",
       "    <tr style=\"text-align: right;\">\n",
       "      <th></th>\n",
       "      <th>obj_id</th>\n",
       "      <th>sketch_id</th>\n",
       "      <th>obj_filename</th>\n",
       "      <th>sket_filename</th>\n",
       "    </tr>\n",
       "  </thead>\n",
       "  <tbody>\n",
       "    <tr>\n",
       "      <th>0</th>\n",
       "      <td>90ba6644ad322c47</td>\n",
       "      <td>036dbe8e06efc868</td>\n",
       "      <td>90ba6644ad322c47.obj</td>\n",
       "      <td>036dbe8e06efc868.jpg</td>\n",
       "    </tr>\n",
       "    <tr>\n",
       "      <th>1</th>\n",
       "      <td>e9b85e6177ccf14d</td>\n",
       "      <td>036dbe8e06efc868</td>\n",
       "      <td>e9b85e6177ccf14d.obj</td>\n",
       "      <td>036dbe8e06efc868.jpg</td>\n",
       "    </tr>\n",
       "    <tr>\n",
       "      <th>2</th>\n",
       "      <td>2d0e5e5ef940e212</td>\n",
       "      <td>036dbe8e06efc868</td>\n",
       "      <td>2d0e5e5ef940e212.obj</td>\n",
       "      <td>036dbe8e06efc868.jpg</td>\n",
       "    </tr>\n",
       "    <tr>\n",
       "      <th>3</th>\n",
       "      <td>55a985eef253a7a0</td>\n",
       "      <td>036dbe8e06efc868</td>\n",
       "      <td>55a985eef253a7a0.obj</td>\n",
       "      <td>036dbe8e06efc868.jpg</td>\n",
       "    </tr>\n",
       "    <tr>\n",
       "      <th>4</th>\n",
       "      <td>90ba6644ad322c47</td>\n",
       "      <td>0516d1f786008dce</td>\n",
       "      <td>90ba6644ad322c47.obj</td>\n",
       "      <td>0516d1f786008dce.jpg</td>\n",
       "    </tr>\n",
       "  </tbody>\n",
       "</table>\n",
       "</div>"
      ],
      "text/plain": [
       "             obj_id         sketch_id          obj_filename  \\\n",
       "0  90ba6644ad322c47  036dbe8e06efc868  90ba6644ad322c47.obj   \n",
       "1  e9b85e6177ccf14d  036dbe8e06efc868  e9b85e6177ccf14d.obj   \n",
       "2  2d0e5e5ef940e212  036dbe8e06efc868  2d0e5e5ef940e212.obj   \n",
       "3  55a985eef253a7a0  036dbe8e06efc868  55a985eef253a7a0.obj   \n",
       "4  90ba6644ad322c47  0516d1f786008dce  90ba6644ad322c47.obj   \n",
       "\n",
       "          sket_filename  \n",
       "0  036dbe8e06efc868.jpg  \n",
       "1  036dbe8e06efc868.jpg  \n",
       "2  036dbe8e06efc868.jpg  \n",
       "3  036dbe8e06efc868.jpg  \n",
       "4  0516d1f786008dce.jpg  "
      ]
     },
     "execution_count": 10,
     "metadata": {},
     "output_type": "execute_result"
    }
   ],
   "source": [
    "df_full = pd.read_csv(os.path.join('./skt_data_12-3/csv', 'new_query_skt_full.csv'))\n",
    "print(len(df_full))\n",
    "df_full.head()"
   ]
  },
  {
   "cell_type": "code",
   "execution_count": 15,
   "metadata": {},
   "outputs": [
    {
     "data": {
      "text/plain": [
       "<generator object _BaseKFold.split at 0x7ff6ecad22e0>"
      ]
     },
     "execution_count": 15,
     "metadata": {},
     "output_type": "execute_result"
    }
   ],
   "source": [
    "from sklearn.model_selection import KFold\n",
    "\n",
    "kf = KFold(n_splits = 5, shuffle = True, random_state = 2023)\n",
    "\n",
    "fold = 0\n",
    "for i, (train_index, test_index) in enumerate(kf.split(df_full)):\n",
    "    train = df_full.iloc[train_index]\n",
    "    val = df_full.iloc[test_index]\n",
    "    train.to_csv(f'./skt_data_12-3/csv/new_query_skt_train_{fold}.csv', index = False)\n",
    "    val.to_csv(f'./skt_data_12-3/csv/new_query_skt_val_{fold}.csv', index = False)\n",
    "    fold += 1\n",
    "kf.split(df_full)"
   ]
  },
  {
   "cell_type": "code",
   "execution_count": 21,
   "metadata": {},
   "outputs": [
    {
     "name": "stdout",
     "output_type": "stream",
     "text": [
      "Test fold 0\n",
      "Train: 1931\n",
      "Val: 483\n",
      "Test fold 1\n",
      "Train: 1931\n",
      "Val: 483\n",
      "Test fold 2\n",
      "Train: 1931\n",
      "Val: 483\n",
      "Test fold 3\n",
      "Train: 1931\n",
      "Val: 483\n",
      "Test fold 4\n",
      "Train: 1931\n",
      "Val: 483\n"
     ]
    }
   ],
   "source": [
    "for fold in range(5):\n",
    "    print('Test fold', fold)\n",
    "    df_train_0 = pd.read_csv('./skt_data_12-3/csv/new_query_skt_train_0.csv')\n",
    "    df_val_0 = pd.read_csv('./skt_data_12-3/csv/new_query_skt_val_0.csv')\n",
    "    print('Train:', len(df_train_0))\n",
    "    print('Val:', len(df_val_0))"
   ]
  }
 ],
 "metadata": {
  "kernelspec": {
   "display_name": "htrvu",
   "language": "python",
   "name": "python3"
  },
  "language_info": {
   "codemirror_mode": {
    "name": "ipython",
    "version": 3
   },
   "file_extension": ".py",
   "mimetype": "text/x-python",
   "name": "python",
   "nbconvert_exporter": "python",
   "pygments_lexer": "ipython3",
   "version": "3.8.15"
  },
  "orig_nbformat": 4
 },
 "nbformat": 4,
 "nbformat_minor": 2
}
